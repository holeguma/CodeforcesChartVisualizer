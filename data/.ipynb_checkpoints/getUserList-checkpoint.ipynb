{
 "cells": [
  {
   "cell_type": "code",
   "execution_count": 1,
   "metadata": {
    "scrolled": true
   },
   "outputs": [
    {
     "name": "stderr",
     "output_type": "stream",
     "text": [
      "IOPub data rate exceeded.\n",
      "The notebook server will temporarily stop sending output\n",
      "to the client in order to avoid crashing it.\n",
      "To change this limit, set the config variable\n",
      "`--NotebookApp.iopub_data_rate_limit`.\n",
      "\n",
      "Current values:\n",
      "NotebookApp.iopub_data_rate_limit=1000000.0 (bytes/sec)\n",
      "NotebookApp.rate_limit_window=3.0 (secs)\n",
      "\n"
     ]
    },
    {
     "name": "stdout",
     "output_type": "stream",
     "text": [
      "\n"
     ]
    }
   ],
   "source": [
    "import json\n",
    "import requests\n",
    "from time import sleep\n",
    "from tqdm import tqdm\n",
    "import os\n",
    "import datetime\n",
    "\n",
    "def dumpFile(new_dir_path, new_filename, new_file_content, mode='w'):\n",
    "    os.makedirs(new_dir_path, exist_ok=True)\n",
    "    with open(os.path.join(new_dir_path, new_filename), mode,encoding=\"utf-8_sig\") as f:\n",
    "        json.dump(new_file_content, f, ensure_ascii=False, indent=4, sort_keys=True, separators=(',', ': '))\n",
    "        f.close()\n",
    "\n",
    "def getData():\n",
    "    res=[]\n",
    "    #新しくディレクトリを作ってここにデータを保存する\n",
    "    new_dir='./'+'user_data'\n",
    "    os.makedirs(new_dir, exist_ok=True)\n",
    "    \n",
    "    filename='user_list.json'\n",
    "    url=\"https://codeforces.com/api/user.ratedList?activeOnly=false\"\n",
    "    response=requests.get(url)\n",
    "    json_data=response.json()\n",
    "\n",
    "    dumpFile(new_dir,filename,json_data)\n",
    "    res.append(json_data)\n",
    "        \n",
    "    return res\n",
    "\n",
    "data=getData()\n",
    "print(data)"
   ]
  },
  {
   "cell_type": "code",
   "execution_count": null,
   "metadata": {},
   "outputs": [],
   "source": []
  }
 ],
 "metadata": {
  "kernelspec": {
   "display_name": "Python 3",
   "language": "python",
   "name": "python3"
  },
  "language_info": {
   "codemirror_mode": {
    "name": "ipython",
    "version": 3
   },
   "file_extension": ".py",
   "mimetype": "text/x-python",
   "name": "python",
   "nbconvert_exporter": "python",
   "pygments_lexer": "ipython3",
   "version": "3.6.9"
  }
 },
 "nbformat": 4,
 "nbformat_minor": 2
}
