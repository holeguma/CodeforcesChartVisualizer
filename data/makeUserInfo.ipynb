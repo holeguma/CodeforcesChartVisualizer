{
 "cells": [
  {
   "cell_type": "code",
   "execution_count": 1,
   "metadata": {},
   "outputs": [
    {
     "name": "stderr",
     "output_type": "stream",
     "text": [
      "100%|██████████████████████████████████████████████████████████████████████| 217284/217284 [00:01<00:00, 146912.98it/s]\n"
     ]
    }
   ],
   "source": [
    "import json\n",
    "import requests\n",
    "from time import sleep\n",
    "from tqdm import tqdm\n",
    "import os\n",
    "import datetime\n",
    "\n",
    "def dumpFile(new_dir_path, new_filename, new_file_content, mode='w'):\n",
    "    os.makedirs(new_dir_path, exist_ok=True)\n",
    "    with open(os.path.join(new_dir_path, new_filename), mode) as f:\n",
    "        json.dump(new_file_content, f, ensure_ascii=False, indent=4, sort_keys=True, separators=(',', ': '))\n",
    "        f.close()\n",
    "\n",
    "filename=\"./main/user_data/user_list.json\"\n",
    "f=open(filename,'r',encoding=\"utf-8_sig\")\n",
    "data=json.load(f);\n",
    "n_users=len(data[\"result\"])\n",
    "dict_data={}\n",
    "for i in tqdm(range(n_users)):\n",
    "    user=data[\"result\"][i]\n",
    "    if \"handle\" in user:\n",
    "        rating = \"unknown\";\n",
    "        country=\"unknown\";\n",
    "        handle=user[\"handle\"]\n",
    "        if \"country\" in user:country=user[\"country\"]\n",
    "        if \"rating\" in user:rating=user[\"rating\"]\n",
    "        dict_data[handle]=dict();\n",
    "        #print(handle+\" \"+country);\n",
    "        dict_data[handle][\"country\"]=country\n",
    "        dict_data[handle][\"rating\"]=rating\n",
    "f.close()\n",
    "new_dir=',/main/user_data'\n",
    "filename='user_info.json'\n",
    "fw=open(filename,'w')\n",
    "json.dump(dict_data,fw)\n",
    "#json.dumps(dict_data)\n",
    "#dumpFile(new_dir,filename,dict_data)\n"
   ]
  },
  {
   "cell_type": "code",
   "execution_count": null,
   "metadata": {},
   "outputs": [],
   "source": []
  }
 ],
 "metadata": {
  "kernelspec": {
   "display_name": "Python 3",
   "language": "python",
   "name": "python3"
  },
  "language_info": {
   "codemirror_mode": {
    "name": "ipython",
    "version": 3
   },
   "file_extension": ".py",
   "mimetype": "text/x-python",
   "name": "python",
   "nbconvert_exporter": "python",
   "pygments_lexer": "ipython3",
   "version": "3.6.9"
  }
 },
 "nbformat": 4,
 "nbformat_minor": 2
}
