{
 "cells": [
  {
   "cell_type": "code",
   "execution_count": 7,
   "metadata": {},
   "outputs": [],
   "source": [
    "import json\n",
    "import requests"
   ]
  },
  {
   "cell_type": "code",
   "execution_count": 12,
   "metadata": {},
   "outputs": [],
   "source": [
    "contestId=566\n",
    "count=5 #十分大きくすると参加者全員とれるらしい\n",
    "url=\"https://codeforces.com/api/contest.standings?contestId=\"+str(contestId)+\"&from=1&count=\"+str(count)+\"&showUnofficial=true\""
   ]
  },
  {
   "cell_type": "code",
   "execution_count": 13,
   "metadata": {},
   "outputs": [],
   "source": [
    "response=requests.get(url)\n",
    "json_data=response.json()"
   ]
  },
  {
   "cell_type": "code",
   "execution_count": 14,
   "metadata": {},
   "outputs": [
    {
     "name": "stdout",
     "output_type": "stream",
     "text": [
      "{'status': 'OK', 'result': {'contest': {'id': 566, 'name': 'VK Cup 2015 - Finals, online mirror', 'type': 'CF', 'phase': 'FINISHED', 'frozen': False, 'durationSeconds': 10800, 'startTimeSeconds': 1438273200, 'relativeTimeSeconds': 136476160}, 'problems': [{'contestId': 566, 'index': 'A', 'name': 'Matching Names', 'type': 'PROGRAMMING', 'points': 1750.0, 'rating': 2300, 'tags': ['dfs and similar', 'strings', 'trees']}, {'contestId': 566, 'index': 'B', 'name': 'Replicating Processes', 'type': 'PROGRAMMING', 'points': 2500.0, 'rating': 2600, 'tags': ['constructive algorithms', 'greedy']}, {'contestId': 566, 'index': 'C', 'name': 'Logistical Questions', 'type': 'PROGRAMMING', 'points': 3000.0, 'rating': 3000, 'tags': ['dfs and similar', 'divide and conquer', 'trees']}, {'contestId': 566, 'index': 'D', 'name': 'Restructuring Company', 'type': 'PROGRAMMING', 'points': 1000.0, 'rating': 1900, 'tags': ['data structures', 'dsu']}, {'contestId': 566, 'index': 'E', 'name': 'Restoring Map', 'type': 'PROGRAMMING', 'points': 3000.0, 'rating': 3200, 'tags': ['bitmasks', 'constructive algorithms', 'trees']}, {'contestId': 566, 'index': 'F', 'name': 'Clique in the Divisibility Graph', 'type': 'PROGRAMMING', 'points': 500.0, 'rating': 1600, 'tags': ['dp', 'math', 'number theory']}, {'contestId': 566, 'index': 'G', 'name': 'Max and Min', 'type': 'PROGRAMMING', 'points': 2500.0, 'rating': 2500, 'tags': ['geometry']}], 'rows': [{'party': {'contestId': 566, 'members': [{'handle': 'rng_58'}], 'participantType': 'CONTESTANT', 'ghost': False, 'room': 8, 'startTimeSeconds': 1438273200}, 'rank': 1, 'points': 7974.0, 'penalty': 0, 'successfulHackCount': 1, 'unsuccessfulHackCount': 0, 'problemResults': [{'points': 1330.0, 'rejectedAttemptCount': 0, 'type': 'FINAL', 'bestSubmissionTimeSeconds': 3624}, {'points': 1600.0, 'rejectedAttemptCount': 0, 'type': 'FINAL', 'bestSubmissionTimeSeconds': 5422}, {'points': 1404.0, 'rejectedAttemptCount': 0, 'type': 'FINAL', 'bestSubmissionTimeSeconds': 7991}, {'points': 840.0, 'rejectedAttemptCount': 0, 'type': 'FINAL', 'bestSubmissionTimeSeconds': 2447}, {'points': 0.0, 'rejectedAttemptCount': 0, 'type': 'FINAL'}, {'points': 490.0, 'rejectedAttemptCount': 0, 'type': 'FINAL', 'bestSubmissionTimeSeconds': 339}, {'points': 2210.0, 'rejectedAttemptCount': 0, 'type': 'FINAL', 'bestSubmissionTimeSeconds': 1757}]}, {'party': {'contestId': 566, 'members': [{'handle': 'hogloid'}], 'participantType': 'VIRTUAL', 'ghost': False, 'startTimeSeconds': 1467507300}, 'rank': 2, 'points': 7048.0, 'penalty': 0, 'successfulHackCount': 0, 'unsuccessfulHackCount': 0, 'problemResults': [{'points': 1162.0, 'rejectedAttemptCount': 0, 'type': 'FINAL', 'bestSubmissionTimeSeconds': 5046}, {'points': 2090.0, 'rejectedAttemptCount': 0, 'type': 'FINAL', 'bestSubmissionTimeSeconds': 2495}, {'points': 1256.0, 'rejectedAttemptCount': 2, 'type': 'FINAL', 'bestSubmissionTimeSeconds': 8273}, {'points': 752.0, 'rejectedAttemptCount': 0, 'type': 'FINAL', 'bestSubmissionTimeSeconds': 3738}, {'points': 0.0, 'rejectedAttemptCount': 0, 'type': 'FINAL'}, {'points': 478.0, 'rejectedAttemptCount': 0, 'type': 'FINAL', 'bestSubmissionTimeSeconds': 698}, {'points': 1310.0, 'rejectedAttemptCount': 1, 'type': 'FINAL', 'bestSubmissionTimeSeconds': 6849}]}, {'party': {'contestId': 566, 'members': [{'handle': 'I_love_Hoang_Yen'}, {'handle': 'phamvanhanhgoldIOI2015'}], 'participantType': 'CONTESTANT', 'teamId': 7180, 'teamName': 'Zenith', 'ghost': False, 'room': 2, 'startTimeSeconds': 1438273200}, 'rank': 3, 'points': 6011.0, 'penalty': 0, 'successfulHackCount': 3, 'unsuccessfulHackCount': 1, 'problemResults': [{'points': 1267.0, 'rejectedAttemptCount': 0, 'type': 'FINAL', 'bestSubmissionTimeSeconds': 4167}, {'points': 1340.0, 'rejectedAttemptCount': 0, 'type': 'FINAL', 'bestSubmissionTimeSeconds': 6975}, {'points': 0.0, 'rejectedAttemptCount': 1, 'type': 'FINAL'}, {'points': 864.0, 'rejectedAttemptCount': 0, 'type': 'FINAL', 'bestSubmissionTimeSeconds': 2050}, {'points': 0.0, 'rejectedAttemptCount': 0, 'type': 'FINAL'}, {'points': 480.0, 'rejectedAttemptCount': 0, 'type': 'FINAL', 'bestSubmissionTimeSeconds': 628}, {'points': 1810.0, 'rejectedAttemptCount': 1, 'type': 'FINAL', 'bestSubmissionTimeSeconds': 3852}]}, {'party': {'contestId': 566, 'members': [{'handle': 'stevenkplus'}], 'participantType': 'VIRTUAL', 'ghost': False, 'startTimeSeconds': 1438468500}, 'rank': 4, 'points': 5872.0, 'penalty': 0, 'successfulHackCount': 0, 'unsuccessfulHackCount': 0, 'problemResults': [{'points': 1568.0, 'rejectedAttemptCount': 0, 'type': 'FINAL', 'bestSubmissionTimeSeconds': 1575}, {'points': 2140.0, 'rejectedAttemptCount': 0, 'type': 'FINAL', 'bestSubmissionTimeSeconds': 2215}, {'points': 0.0, 'rejectedAttemptCount': 0, 'type': 'FINAL'}, {'points': 788.0, 'rejectedAttemptCount': 0, 'type': 'FINAL', 'bestSubmissionTimeSeconds': 3196}, {'points': 0.0, 'rejectedAttemptCount': 0, 'type': 'FINAL'}, {'points': 306.0, 'rejectedAttemptCount': 1, 'type': 'FINAL', 'bestSubmissionTimeSeconds': 4369}, {'points': 1070.0, 'rejectedAttemptCount': 6, 'type': 'FINAL', 'bestSubmissionTimeSeconds': 6803}]}, {'party': {'contestId': 566, 'members': [{'handle': 'zld3794955'}, {'handle': 'KFDong'}], 'participantType': 'CONTESTANT', 'teamId': 6370, 'teamName': 'OrOrZZZ!', 'ghost': False, 'room': 16, 'startTimeSeconds': 1438273200}, 'rank': 5, 'points': 5833.0, 'penalty': 0, 'successfulHackCount': 0, 'unsuccessfulHackCount': 0, 'problemResults': [{'points': 1127.0, 'rejectedAttemptCount': 0, 'type': 'FINAL', 'bestSubmissionTimeSeconds': 5388}, {'points': 1250.0, 'rejectedAttemptCount': 0, 'type': 'FINAL', 'bestSubmissionTimeSeconds': 7528}, {'points': 0.0, 'rejectedAttemptCount': 0, 'type': 'FINAL'}, {'points': 816.0, 'rejectedAttemptCount': 0, 'type': 'FINAL', 'bestSubmissionTimeSeconds': 2815}, {'points': 0.0, 'rejectedAttemptCount': 0, 'type': 'FINAL'}, {'points': 430.0, 'rejectedAttemptCount': 0, 'type': 'FINAL', 'bestSubmissionTimeSeconds': 2124}, {'points': 2210.0, 'rejectedAttemptCount': 0, 'type': 'FINAL', 'bestSubmissionTimeSeconds': 1743}]}]}}\n"
     ]
    }
   ],
   "source": [
    "print(json_data)"
   ]
  },
  {
   "cell_type": "code",
   "execution_count": null,
   "metadata": {},
   "outputs": [],
   "source": [
    "import json\n",
    "import requests\n",
    "from time import sleep\n",
    "\n",
    "\n",
    "def getData(count=5):\n",
    "    res=[]\n",
    "    for contestId in range(1,1001):\n",
    "        print(\"contestId : \"+str(contestId))\n",
    "        url=url=\"https://codeforces.com/api/contest.standings?contestId=\"+str(contestId)+\"&from=1&count=\"+str(count)+\"&showUnofficial=true\"\n",
    "        response=requests.get(url)\n",
    "        json_data=response.json()\n",
    "        res.append(json_data)\n",
    "        if not contestId%5:\n",
    "            sleep(1500)\n",
    "        print(res)\n",
    "    return res\n",
    "\n",
    "getData()"
   ]
  },
  {
   "cell_type": "code",
   "execution_count": null,
   "metadata": {},
   "outputs": [],
   "source": []
  }
 ],
 "metadata": {
  "kernelspec": {
   "display_name": "Python 3",
   "language": "python",
   "name": "python3"
  },
  "language_info": {
   "codemirror_mode": {
    "name": "ipython",
    "version": 3
   },
   "file_extension": ".py",
   "mimetype": "text/x-python",
   "name": "python",
   "nbconvert_exporter": "python",
   "pygments_lexer": "ipython3",
   "version": "3.6.9"
  }
 },
 "nbformat": 4,
 "nbformat_minor": 2
}
