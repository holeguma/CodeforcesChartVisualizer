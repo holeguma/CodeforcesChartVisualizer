{
 "cells": [
  {
   "cell_type": "code",
   "execution_count": null,
   "metadata": {},
   "outputs": [],
   "source": [
    "import json\n",
    "import requests\n",
    "from time import sleep\n",
    "from tqdm import tqdm\n",
    "import os\n",
    "import datetime\n",
    "\n",
    "def dumpFile(new_dir_path, new_filename, new_file_content, mode='w'):\n",
    "    os.makedirs(new_dir_path, exist_ok=True)\n",
    "    with open(os.path.join(new_dir_path, new_filename), mode) as f:\n",
    "        json.dump(new_file_content, f, ensure_ascii=False, sort_keys=True, separators=(',', ': '))\n",
    "        f.close()\n",
    "\n",
    "def makeData():\n",
    "    filename=\"./user_data/user_info.json\"\n",
    "    f=open(filename)\n",
    "    f=open(filename,'r',encoding=\"utf-8_sig\")\n",
    "    user_list=json.load(f);\n",
    "    n=len(user_list)\n",
    "    print(n)\n",
    "    with tqdm(total=n) as pbar:\n",
    "        for i,key in enumerate(user_list):\n",
    "            makePersonalData(key)\n",
    "            if(i%5==0):sleep(1.3)\n",
    "            pbar.update(1)\n",
    "def makePersonalData(userID):\n",
    "    #print(userID)\n",
    "    url=\"https://codeforces.com/api/user.status?handle=\"+userID+\"&from=1&count=10000\"\n",
    "    response=requests.get(url)\n",
    "    data=response.json()\n",
    "    output={};\n",
    "    if data['status']!='OK':\n",
    "        print(userID)\n",
    "        return\n",
    "    #print(len(data['result']))\n",
    "    n=len(data['result'])\n",
    "    for i in range(n):\n",
    "        d=data['result'][i]\n",
    "        #print(d)\n",
    "        if(d['verdict']!='OK'):continue\n",
    "        if('contestId' not in d['problem'] or 'index' not in d['problem']):\n",
    "            #print(d['problem'])\n",
    "            continue\n",
    "        problemID=str(d['problem']['contestId'])+d['problem']['index']\n",
    "        #if(len(problemID)>=7):print(d)\n",
    "        output[problemID]=1\n",
    "        #print(problemID)\n",
    "    new_dir='./user_data/personal_data'\n",
    "    filename=userID+\".json\"\n",
    "    dumpFile(new_dir,filename,output)\n",
    "#getData('Mojumbo')\n",
    "makeData()"
   ]
  },
  {
   "cell_type": "code",
   "execution_count": null,
   "metadata": {},
   "outputs": [],
   "source": []
  }
 ],
 "metadata": {
  "kernelspec": {
   "display_name": "Python 3",
   "language": "python",
   "name": "python3"
  },
  "language_info": {
   "codemirror_mode": {
    "name": "ipython",
    "version": 3
   },
   "file_extension": ".py",
   "mimetype": "text/x-python",
   "name": "python",
   "nbconvert_exporter": "python",
   "pygments_lexer": "ipython3",
   "version": "3.6.9"
  }
 },
 "nbformat": 4,
 "nbformat_minor": 2
}
